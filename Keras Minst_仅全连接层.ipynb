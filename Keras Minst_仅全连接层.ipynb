{
 "cells": [
  {
   "cell_type": "code",
   "execution_count": 1,
   "metadata": {},
   "outputs": [
    {
     "name": "stderr",
     "output_type": "stream",
     "text": [
      "Using TensorFlow backend.\n"
     ]
    }
   ],
   "source": [
    "import numpy as np\n",
    "from keras.datasets import mnist #手写数字[0，1，2，3，4，5，6，7，8，9]识别\n",
    "from keras.models import Sequential,Model\n",
    "from keras.layers.core import Dense,Activation,Dropout\n",
    "from keras.utils import np_utils\n",
    "import matplotlib.pyplot as plt\n",
    "import matplotlib.image as processimage"
   ]
  },
  {
   "cell_type": "code",
   "execution_count": 2,
   "metadata": {
    "scrolled": false
   },
   "outputs": [],
   "source": [
    "#拉取原始数据\n",
    "(x_train,Y_train),(x_test,Y_test)=mnist.load_data()"
   ]
  },
  {
   "cell_type": "code",
   "execution_count": 3,
   "metadata": {},
   "outputs": [
    {
     "name": "stdout",
     "output_type": "stream",
     "text": [
      "(60000, 28, 28) (60000,)\n",
      "(10000, 28, 28) (10000,)\n"
     ]
    }
   ],
   "source": [
    "print(x_train.shape,Y_train.shape)\n",
    "print(x_test.shape,Y_test.shape)"
   ]
  },
  {
   "cell_type": "code",
   "execution_count": 4,
   "metadata": {},
   "outputs": [
    {
     "data": {
      "text/plain": [
       "28"
      ]
     },
     "execution_count": 4,
     "metadata": {},
     "output_type": "execute_result"
    }
   ],
   "source": [
    "x_train.shape[1]"
   ]
  },
  {
   "cell_type": "code",
   "execution_count": 5,
   "metadata": {},
   "outputs": [],
   "source": [
    "#数据准备\n",
    "##reshape\n",
    "x_train=x_train.reshape(x_train.shape[0],x_train.shape[1]*x_train.shape[2])\n",
    "x_test=x_test.reshape(x_test.shape[0],x_test.shape[1]*x_test.shape[2])\n",
    "\n",
    "##设置成浮点型\n",
    "x_train=x_train.astype('float32')\n",
    "x_test=x_test.astype('float32')\n",
    "#因为色数为255\n",
    "x_train=x_train/255\n",
    "x_test/=255"
   ]
  },
  {
   "cell_type": "code",
   "execution_count": 6,
   "metadata": {},
   "outputs": [
    {
     "name": "stdout",
     "output_type": "stream",
     "text": [
      "[0.         0.         0.         0.         0.         0.\n",
      " 0.         0.         0.         0.         0.         0.\n",
      " 0.         0.         0.         0.         0.         0.\n",
      " 0.         0.         0.         0.         0.         0.\n",
      " 0.         0.         0.         0.         0.         0.\n",
      " 0.         0.         0.         0.         0.         0.\n",
      " 0.         0.         0.         0.         0.         0.\n",
      " 0.         0.         0.         0.         0.         0.\n",
      " 0.         0.         0.         0.         0.         0.\n",
      " 0.         0.         0.         0.         0.         0.\n",
      " 0.         0.         0.         0.         0.         0.\n",
      " 0.         0.         0.         0.         0.         0.\n",
      " 0.         0.         0.         0.         0.         0.\n",
      " 0.         0.         0.         0.         0.         0.\n",
      " 0.         0.         0.         0.         0.         0.\n",
      " 0.         0.         0.         0.         0.         0.\n",
      " 0.         0.         0.         0.         0.         0.\n",
      " 0.         0.         0.         0.         0.         0.\n",
      " 0.         0.         0.         0.         0.         0.\n",
      " 0.         0.         0.         0.         0.         0.\n",
      " 0.         0.         0.         0.         0.         0.\n",
      " 0.         0.         0.         0.         0.         0.\n",
      " 0.         0.         0.         0.         0.         0.\n",
      " 0.         0.         0.         0.         0.         0.\n",
      " 0.         0.         0.         0.         0.         0.\n",
      " 0.         0.         0.         0.         0.         0.\n",
      " 0.         0.         0.         0.         0.         0.\n",
      " 0.         0.         0.         0.         0.         0.\n",
      " 0.         0.         0.         0.         0.         0.\n",
      " 0.         0.         0.         0.         0.         0.\n",
      " 0.         0.         0.         0.         0.         0.\n",
      " 0.         0.         0.         0.         0.         0.\n",
      " 0.         0.         0.         0.         0.         0.\n",
      " 0.         0.         0.         0.         0.         0.\n",
      " 0.         0.         0.         0.         0.04313726 0.25490198\n",
      " 0.29803923 0.52156866 0.7921569  0.99215686 0.99215686 0.99215686\n",
      " 0.4862745  0.         0.         0.         0.         0.\n",
      " 0.         0.         0.         0.         0.         0.\n",
      " 0.         0.         0.         0.         0.         0.\n",
      " 0.         0.23921569 0.92941177 0.9882353  0.9882353  0.99215686\n",
      " 0.98039216 0.827451   0.5294118  0.9882353  0.73333335 0.01960784\n",
      " 0.         0.         0.         0.         0.         0.\n",
      " 0.         0.         0.         0.         0.         0.\n",
      " 0.         0.         0.         0.03529412 0.5019608  0.91764706\n",
      " 0.9882353  0.9882353  0.9882353  0.89411765 0.34117648 0.\n",
      " 0.19215687 0.9882353  0.9882353  0.1882353  0.         0.\n",
      " 0.         0.         0.         0.         0.         0.\n",
      " 0.         0.         0.         0.         0.         0.\n",
      " 0.         0.5529412  0.9882353  0.9882353  0.9882353  0.9882353\n",
      " 0.80784315 0.15686275 0.         0.         0.5058824  0.9882353\n",
      " 0.8        0.0627451  0.         0.         0.         0.\n",
      " 0.         0.         0.         0.         0.         0.\n",
      " 0.         0.         0.         0.         0.09411765 0.84313726\n",
      " 0.9882353  0.9882353  0.8980392  0.3254902  0.01568628 0.\n",
      " 0.         0.03529412 0.7411765  0.93333334 0.3137255  0.\n",
      " 0.         0.         0.         0.         0.         0.\n",
      " 0.         0.         0.         0.         0.         0.\n",
      " 0.         0.         0.         0.57254905 0.9882353  0.6\n",
      " 0.14509805 0.         0.         0.         0.02745098 0.6117647\n",
      " 0.9882353  0.7529412  0.         0.         0.         0.\n",
      " 0.         0.         0.         0.         0.         0.\n",
      " 0.         0.         0.         0.         0.         0.\n",
      " 0.         0.04705882 0.1882353  0.03529412 0.         0.\n",
      " 0.         0.         0.09803922 0.9882353  0.9882353  0.5921569\n",
      " 0.         0.         0.         0.         0.         0.\n",
      " 0.         0.         0.         0.         0.         0.\n",
      " 0.         0.         0.         0.         0.         0.\n",
      " 0.         0.         0.         0.         0.         0.2\n",
      " 0.6627451  0.9882353  0.6431373  0.03921569 0.         0.\n",
      " 0.         0.         0.         0.         0.         0.\n",
      " 0.         0.         0.         0.         0.         0.\n",
      " 0.         0.         0.         0.         0.         0.\n",
      " 0.         0.         0.         0.5176471  0.9882353  0.9254902\n",
      " 0.1882353  0.         0.         0.         0.         0.\n",
      " 0.         0.         0.         0.         0.         0.\n",
      " 0.         0.         0.         0.         0.         0.\n",
      " 0.         0.         0.         0.         0.         0.\n",
      " 0.45490196 0.972549   0.9882353  0.61960787 0.         0.\n",
      " 0.         0.         0.         0.         0.         0.\n",
      " 0.         0.         0.         0.         0.         0.\n",
      " 0.         0.         0.         0.         0.         0.\n",
      " 0.         0.         0.         0.2509804  0.972549   1.\n",
      " 0.8745098  0.         0.         0.         0.         0.\n",
      " 0.         0.         0.         0.         0.         0.\n",
      " 0.         0.         0.         0.         0.         0.\n",
      " 0.         0.         0.         0.         0.         0.\n",
      " 0.21960784 0.9490196  0.9882353  0.94509804 0.38431373 0.\n",
      " 0.         0.         0.         0.         0.         0.\n",
      " 0.         0.         0.         0.         0.         0.\n",
      " 0.         0.         0.         0.         0.         0.\n",
      " 0.         0.         0.         0.         0.67058825 0.9882353\n",
      " 0.9882353  0.40784314 0.         0.         0.         0.\n",
      " 0.         0.         0.         0.         0.         0.\n",
      " 0.         0.         0.         0.         0.         0.\n",
      " 0.         0.         0.         0.         0.         0.\n",
      " 0.         0.5372549  0.94509804 0.9882353  0.80784315 0.\n",
      " 0.         0.         0.         0.         0.         0.\n",
      " 0.         0.         0.         0.         0.         0.\n",
      " 0.         0.         0.         0.         0.         0.\n",
      " 0.         0.         0.         0.         0.07058824 0.84705883\n",
      " 0.9882353  0.9882353  0.04313726 0.         0.         0.\n",
      " 0.         0.         0.         0.         0.         0.\n",
      " 0.         0.         0.         0.         0.         0.\n",
      " 0.         0.         0.         0.         0.         0.\n",
      " 0.         0.18431373 0.8235294  0.9882353  0.9882353  0.3019608\n",
      " 0.01176471 0.         0.         0.         0.         0.\n",
      " 0.         0.         0.         0.         0.         0.\n",
      " 0.         0.         0.         0.         0.         0.\n",
      " 0.         0.         0.         0.         0.         0.39607844\n",
      " 0.9882353  0.9882353  0.52156866 0.01960784 0.         0.\n",
      " 0.         0.         0.         0.         0.         0.\n",
      " 0.         0.         0.         0.         0.         0.\n",
      " 0.         0.         0.         0.         0.         0.\n",
      " 0.         0.         0.16470589 0.9490196  0.9882353  0.52156866\n",
      " 0.01960784 0.         0.         0.         0.         0.\n",
      " 0.         0.         0.         0.         0.         0.\n",
      " 0.         0.         0.         0.         0.         0.\n",
      " 0.         0.         0.         0.         0.         0.\n",
      " 0.61960787 0.9882353  0.9882353  0.1882353  0.         0.\n",
      " 0.         0.         0.         0.         0.         0.\n",
      " 0.         0.         0.         0.         0.         0.\n",
      " 0.         0.         0.         0.         0.         0.\n",
      " 0.         0.         0.         0.         0.12156863 0.85490197\n",
      " 0.8509804  0.09803922 0.         0.         0.         0.\n",
      " 0.         0.         0.         0.         0.         0.\n",
      " 0.         0.         0.         0.         0.         0.\n",
      " 0.         0.         0.         0.         0.         0.\n",
      " 0.         0.         0.         0.         0.         0.\n",
      " 0.         0.         0.         0.         0.         0.\n",
      " 0.         0.         0.         0.         0.         0.\n",
      " 0.         0.         0.         0.        ]\n"
     ]
    }
   ],
   "source": [
    "print(x_train[9999])"
   ]
  },
  {
   "cell_type": "code",
   "execution_count": 7,
   "metadata": {},
   "outputs": [],
   "source": [
    "#基本参数设置\n",
    "batch_size=1024\n",
    "nb_class=10\n",
    "nb_epochs=8"
   ]
  },
  {
   "cell_type": "code",
   "execution_count": 8,
   "metadata": {},
   "outputs": [],
   "source": [
    "#label向量化\n",
    "Y_train=np_utils.to_categorical(Y_train,nb_class)\n",
    "Y_test=np_utils.to_categorical(Y_test,nb_class)"
   ]
  },
  {
   "cell_type": "code",
   "execution_count": 9,
   "metadata": {},
   "outputs": [
    {
     "name": "stdout",
     "output_type": "stream",
     "text": [
      "[0. 0. 0. 0. 0. 0. 0. 1. 0. 0.]\n"
     ]
    }
   ],
   "source": [
    "print(Y_train[9999])"
   ]
  },
  {
   "cell_type": "code",
   "execution_count": 10,
   "metadata": {},
   "outputs": [],
   "source": [
    "#设置网络结构\n",
    "model=Sequential()\n",
    "#第一层\n",
    "model.add(Dense(512,input_shape=(784,)))\n",
    "model.add(Activation('relu'))\n",
    "model.add(Dropout(0.2))\n",
    "\n",
    "#第二层\n",
    "model.add(Dense(256))\n",
    "model.add(Activation('relu'))\n",
    "model.add(Dropout(0.2))\n",
    "\n",
    "#最后一层\n",
    "model.add(Dense(10))\n",
    "model.add(Activation('softmax'))"
   ]
  },
  {
   "cell_type": "code",
   "execution_count": 11,
   "metadata": {},
   "outputs": [],
   "source": [
    "#编译\n",
    "model.compile(\n",
    "    loss='categorical_crossentropy'\n",
    "    ,optimizer='rmsprop'\n",
    "    ,metrics=['accuracy'],\n",
    "\n",
    ")"
   ]
  },
  {
   "cell_type": "code",
   "execution_count": 12,
   "metadata": {},
   "outputs": [
    {
     "name": "stdout",
     "output_type": "stream",
     "text": [
      "Train on 60000 samples, validate on 10000 samples\n",
      "Epoch 1/8\n",
      "60000/60000 [==============================] - 2s 29us/step - loss: 0.5333 - accuracy: 0.8331 - val_loss: 0.2699 - val_accuracy: 0.9108\n",
      "Epoch 2/8\n",
      "60000/60000 [==============================] - 2s 27us/step - loss: 0.2143 - accuracy: 0.9361 - val_loss: 0.1464 - val_accuracy: 0.9525\n",
      "Epoch 3/8\n",
      "60000/60000 [==============================] - 2s 27us/step - loss: 0.1474 - accuracy: 0.9550 - val_loss: 0.1097 - val_accuracy: 0.9663\n",
      "Epoch 4/8\n",
      "60000/60000 [==============================] - 2s 28us/step - loss: 0.1117 - accuracy: 0.9657 - val_loss: 0.0873 - val_accuracy: 0.9729\n",
      "Epoch 5/8\n",
      "60000/60000 [==============================] - 2s 27us/step - loss: 0.0867 - accuracy: 0.9729 - val_loss: 0.0846 - val_accuracy: 0.9729\n",
      "Epoch 6/8\n",
      "60000/60000 [==============================] - 2s 27us/step - loss: 0.0698 - accuracy: 0.9788 - val_loss: 0.0782 - val_accuracy: 0.9761\n",
      "Epoch 7/8\n",
      "60000/60000 [==============================] - 2s 29us/step - loss: 0.0581 - accuracy: 0.9818 - val_loss: 0.0703 - val_accuracy: 0.9784\n",
      "Epoch 8/8\n",
      "60000/60000 [==============================] - 2s 29us/step - loss: 0.0478 - accuracy: 0.9848 - val_loss: 0.0779 - val_accuracy: 0.9756\n"
     ]
    }
   ],
   "source": [
    "#启动网络训练\n",
    "Trainning=model.fit(\n",
    "    x_train,Y_train,\n",
    "    batch_size=batch_size,\n",
    "    epochs=nb_epochs,\n",
    "    validation_data=(x_test,Y_test)\n",
    "    \n",
    ")"
   ]
  },
  {
   "cell_type": "code",
   "execution_count": 13,
   "metadata": {},
   "outputs": [
    {
     "data": {
      "text/plain": [
       "{'val_loss': [0.2699217890739441,\n",
       "  0.14637744402885436,\n",
       "  0.10967988011837006,\n",
       "  0.08732540878057479,\n",
       "  0.0846390772819519,\n",
       "  0.07823796194791793,\n",
       "  0.07032975733280182,\n",
       "  0.07786126846075057],\n",
       " 'val_accuracy': [0.9107999801635742,\n",
       "  0.9524999856948853,\n",
       "  0.9663000106811523,\n",
       "  0.9728999733924866,\n",
       "  0.9728999733924866,\n",
       "  0.9761000275611877,\n",
       "  0.9783999919891357,\n",
       "  0.975600004196167],\n",
       " 'loss': [0.5332682197252909,\n",
       "  0.21426264756520588,\n",
       "  0.14737733550866444,\n",
       "  0.11168141119877498,\n",
       "  0.0867111652970314,\n",
       "  0.06975460165540377,\n",
       "  0.058098047395547234,\n",
       "  0.04778957475423813],\n",
       " 'accuracy': [0.83308333,\n",
       "  0.9361,\n",
       "  0.95496666,\n",
       "  0.96571666,\n",
       "  0.97285,\n",
       "  0.9788167,\n",
       "  0.98181665,\n",
       "  0.9848]}"
      ]
     },
     "execution_count": 13,
     "metadata": {},
     "output_type": "execute_result"
    }
   ],
   "source": [
    "Trainning.history"
   ]
  },
  {
   "cell_type": "code",
   "execution_count": 14,
   "metadata": {},
   "outputs": [
    {
     "data": {
      "text/plain": [
       "{'batch_size': 1024,\n",
       " 'epochs': 8,\n",
       " 'steps': None,\n",
       " 'samples': 60000,\n",
       " 'verbose': 1,\n",
       " 'do_validation': True,\n",
       " 'metrics': ['loss', 'accuracy', 'val_loss', 'val_accuracy']}"
      ]
     },
     "execution_count": 14,
     "metadata": {},
     "output_type": "execute_result"
    }
   ],
   "source": [
    "Trainning.params"
   ]
  },
  {
   "cell_type": "code",
   "execution_count": 15,
   "metadata": {},
   "outputs": [
    {
     "name": "stdout",
     "output_type": "stream",
     "text": [
      "label:->> [0. 0. 1. 0. 0. 0. 0. 0. 0. 0.]\n",
      "预测结果 [[5.0282620e-07 2.6318432e-06 9.9968719e-01 3.4690125e-05 3.6419831e-07\n",
      "  2.0399108e-07 4.5556344e-08 1.2594782e-04 1.4824040e-04 2.4818269e-07]]\n",
      "[2]\n"
     ]
    },
    {
     "data": {
      "image/png": "[encoded data removed]",
      "text/plain": [
       "<Figure size 432x288 with 1 Axes>"
      ]
     },
     "metadata": {
      "needs_background": "light"
     },
     "output_type": "display_data"
    }
   ],
   "source": [
    "#样本内测试\n",
    "testrun=x_test[888].reshape(1,784)\n",
    "test_label=Y_test[888]\n",
    "print('label:->>',test_label)\n",
    "plt.imshow(testrun.reshape([28,28]))\n",
    "pred=model.predict(testrun)\n",
    "print(\"预测结果\",pred)\n",
    "b=[i.argmax()for i in pred]\n",
    "print(b)"
   ]
  },
  {
   "cell_type": "code",
   "execution_count": null,
   "metadata": {},
   "outputs": [],
   "source": []
  }
 ],
 "metadata": {
  "kernelspec": {
   "display_name": "Python [conda env:TF_2C]",
   "language": "python",
   "name": "conda-env-TF_2C-py"
  },
  "language_info": {
   "codemirror_mode": {
    "name": "ipython",
    "version": 3
   },
   "file_extension": ".py",
   "mimetype": "text/x-python",
   "name": "python",
   "nbconvert_exporter": "python",
   "pygments_lexer": "ipython3",
   "version": "3.6.10"
  }
 },
 "nbformat": 4,
 "nbformat_minor": 4
}
